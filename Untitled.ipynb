{
 "cells": [
  {
   "cell_type": "code",
   "execution_count": null,
   "metadata": {},
   "outputs": [],
   "source": [
    "import sys\n",
    "tes=[False]*10\n",
    "\n",
    "for n in [input()]:\n",
    "    n=str(n)\n",
    "    for i in range(4):\n",
    "        tes[int(n[i])]=True\n",
    "    for i in range(int(input())):\n",
    "        a=0\n",
    "        b=0\n",
    "        num=str(input())\n",
    "        for j in range(4):\n",
    "            if num[j]==n[j]:\n",
    "                a+=1\n",
    "                continue\n",
    "            if tes[int(num[j])]:\n",
    "                b+=1\n",
    "        print('{0}A{1}B\\n'.format(a,b))"
   ]
  },
  {
   "cell_type": "code",
   "execution_count": 1,
   "metadata": {},
   "outputs": [
    {
     "data": {
      "text/plain": [
       "1.7399999999999998"
      ]
     },
     "execution_count": 1,
     "metadata": {},
     "output_type": "execute_result"
    }
   ],
   "source": [
    ".58*3"
   ]
  },
  {
   "cell_type": "code",
   "execution_count": null,
   "metadata": {},
   "outputs": [],
   "source": []
  },
  {
   "cell_type": "code",
   "execution_count": null,
   "metadata": {},
   "outputs": [],
   "source": []
  }
 ],
 "metadata": {
  "kernelspec": {
   "display_name": "Python 3",
   "language": "python",
   "name": "python3"
  },
  "language_info": {
   "codemirror_mode": {
    "name": "ipython",
    "version": 3
   },
   "file_extension": ".py",
   "mimetype": "text/x-python",
   "name": "python",
   "nbconvert_exporter": "python",
   "pygments_lexer": "ipython3",
   "version": "3.7.3"
  }
 },
 "nbformat": 4,
 "nbformat_minor": 2
}
